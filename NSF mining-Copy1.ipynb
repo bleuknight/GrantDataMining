{
 "cells": [
  {
   "cell_type": "code",
   "execution_count": 9,
   "metadata": {},
   "outputs": [
    {
     "data": {
      "text/html": [
       "<div>\n",
       "<style>\n",
       "    .dataframe thead tr:only-child th {\n",
       "        text-align: right;\n",
       "    }\n",
       "\n",
       "    .dataframe thead th {\n",
       "        text-align: left;\n",
       "    }\n",
       "\n",
       "    .dataframe tbody tr th {\n",
       "        vertical-align: top;\n",
       "    }\n",
       "</style>\n",
       "<table border=\"1\" class=\"dataframe\">\n",
       "  <thead>\n",
       "    <tr style=\"text-align: right;\">\n",
       "      <th></th>\n",
       "      <th>institution</th>\n",
       "      <th>city</th>\n",
       "      <th>amount</th>\n",
       "    </tr>\n",
       "  </thead>\n",
       "  <tbody>\n",
       "  </tbody>\n",
       "</table>\n",
       "</div>"
      ],
      "text/plain": [
       "Empty DataFrame\n",
       "Columns: [institution, city, amount]\n",
       "Index: []"
      ]
     },
     "execution_count": 9,
     "metadata": {},
     "output_type": "execute_result"
    }
   ],
   "source": [
    "import os\n",
    "path = 'C:/Users/MissBleu/Documents/NSFxml2'\n",
    "os.listdir(path)\n",
    "import glob\n",
    "glob.glob(path + '/*.xml')\n",
    "import pandas as pd\n",
    "df2013 = pd.DataFrame(columns=('institution', 'city', 'amount'))\n",
    "df2013"
   ]
  },
  {
   "cell_type": "code",
   "execution_count": 10,
   "metadata": {},
   "outputs": [
    {
     "name": "stdout",
     "output_type": "stream",
     "text": [
      "('University of Rochester', 'Rochester', '1742')\n"
     ]
    }
   ],
   "source": [
    "from lxml import etree\n",
    "\n",
    "in_f = open('C:/Users/MissBleu/Documents/NSFxml2/1300040.xml')\n",
    "tree = etree.parse(in_f)\n",
    "\n",
    "for amt in tree.xpath('//AwardAmount'):\n",
    "    amount = amt.text\n",
    "for df in tree.xpath('//Institution'):\n",
    "    for sf in df.getchildren():\n",
    "        if sf.tag == \"Name\":\n",
    "            Name = sf.text\n",
    "        if sf.tag == \"CityName\":\n",
    "            City= sf.text\n",
    "            \n",
    "    print (Name, City, amount)\n",
    "\n",
    "    "
   ]
  },
  {
   "cell_type": "code",
   "execution_count": 17,
   "metadata": {
    "scrolled": true
   },
   "outputs": [
    {
     "data": {
      "text/html": [
       "<div>\n",
       "<style>\n",
       "    .dataframe thead tr:only-child th {\n",
       "        text-align: right;\n",
       "    }\n",
       "\n",
       "    .dataframe thead th {\n",
       "        text-align: left;\n",
       "    }\n",
       "\n",
       "    .dataframe tbody tr th {\n",
       "        vertical-align: top;\n",
       "    }\n",
       "</style>\n",
       "<table border=\"1\" class=\"dataframe\">\n",
       "  <thead>\n",
       "    <tr style=\"text-align: right;\">\n",
       "      <th></th>\n",
       "      <th>institution</th>\n",
       "      <th>city</th>\n",
       "      <th>amount</th>\n",
       "    </tr>\n",
       "  </thead>\n",
       "  <tbody>\n",
       "    <tr>\n",
       "      <th>C:/Users/MissBleu/Documents/NSFxml2/1300040.xml</th>\n",
       "      <td>University of Rochester</td>\n",
       "      <td>Rochester</td>\n",
       "      <td>1742</td>\n",
       "    </tr>\n",
       "  </tbody>\n",
       "</table>\n",
       "</div>"
      ],
      "text/plain": [
       "                                                             institution  \\\n",
       "C:/Users/MissBleu/Documents/NSFxml2/1300040.xml  University of Rochester   \n",
       "\n",
       "                                                      city amount  \n",
       "C:/Users/MissBleu/Documents/NSFxml2/1300040.xml  Rochester   1742  "
      ]
     },
     "execution_count": 17,
     "metadata": {},
     "output_type": "execute_result"
    }
   ],
   "source": [
    "from lxml import etree\n",
    "import pandas as pd\n",
    "\n",
    "def makeSeries(filename):\n",
    "    df2013 = pd.DataFrame(columns=('institution', 'city', 'amount'))\n",
    "    in_f = open(filename)\n",
    "    tree = etree.parse(in_f)\n",
    "    for amt in tree.xpath('//AwardAmount'):\n",
    "        amount = amt.text\n",
    "    for df in tree.xpath('//Institution'):\n",
    "        for sf in df.getchildren():\n",
    "            if sf.tag == \"Name\":\n",
    "                institution = sf.text\n",
    "            if sf.tag == \"CityName\":\n",
    "                city= sf.text       \n",
    "    row = dict(zip(['institution', 'city', 'amount'], [institution, city, amount]))\n",
    "    row_s = pd.Series(row)\n",
    "    row_s.name = filename\n",
    "    df2013 = df2013.append(row_s)\n",
    "    return df2013\n",
    "\n",
    "makeSeries(\"C:/Users/MissBleu/Documents/NSFxml2/1300040.xml\")"
   ]
  },
  {
   "cell_type": "code",
   "execution_count": 18,
   "metadata": {},
   "outputs": [
    {
     "data": {
      "text/html": [
       "<div>\n",
       "<style>\n",
       "    .dataframe thead tr:only-child th {\n",
       "        text-align: right;\n",
       "    }\n",
       "\n",
       "    .dataframe thead th {\n",
       "        text-align: left;\n",
       "    }\n",
       "\n",
       "    .dataframe tbody tr th {\n",
       "        vertical-align: top;\n",
       "    }\n",
       "</style>\n",
       "<table border=\"1\" class=\"dataframe\">\n",
       "  <thead>\n",
       "    <tr style=\"text-align: right;\">\n",
       "      <th></th>\n",
       "      <th>institution</th>\n",
       "      <th>city</th>\n",
       "      <th>amount</th>\n",
       "    </tr>\n",
       "  </thead>\n",
       "  <tbody>\n",
       "    <tr>\n",
       "      <th>C:/Users/MissBleu/Documents/NSFxml2\\1300007.xml</th>\n",
       "      <td>George Mason University</td>\n",
       "      <td>FAIRFAX</td>\n",
       "      <td>360000</td>\n",
       "    </tr>\n",
       "    <tr>\n",
       "      <th>C:/Users/MissBleu/Documents/NSFxml2\\1300010.xml</th>\n",
       "      <td>University of Michigan Ann Arbor</td>\n",
       "      <td>Ann Arbor</td>\n",
       "      <td>408194</td>\n",
       "    </tr>\n",
       "    <tr>\n",
       "      <th>C:/Users/MissBleu/Documents/NSFxml2\\1300019.xml</th>\n",
       "      <td>Georgia Tech Research Corporation</td>\n",
       "      <td>Atlanta</td>\n",
       "      <td>289417</td>\n",
       "    </tr>\n",
       "    <tr>\n",
       "      <th>C:/Users/MissBleu/Documents/NSFxml2\\1300024.xml</th>\n",
       "      <td>Oklahoma State University</td>\n",
       "      <td>Stillwater</td>\n",
       "      <td>150000</td>\n",
       "    </tr>\n",
       "    <tr>\n",
       "      <th>C:/Users/MissBleu/Documents/NSFxml2\\1300026.xml</th>\n",
       "      <td>Temple University</td>\n",
       "      <td>PHILADELPHIA</td>\n",
       "      <td>165883</td>\n",
       "    </tr>\n",
       "  </tbody>\n",
       "</table>\n",
       "</div>"
      ],
      "text/plain": [
       "                                                                       institution  \\\n",
       "C:/Users/MissBleu/Documents/NSFxml2\\1300007.xml            George Mason University   \n",
       "C:/Users/MissBleu/Documents/NSFxml2\\1300010.xml   University of Michigan Ann Arbor   \n",
       "C:/Users/MissBleu/Documents/NSFxml2\\1300019.xml  Georgia Tech Research Corporation   \n",
       "C:/Users/MissBleu/Documents/NSFxml2\\1300024.xml          Oklahoma State University   \n",
       "C:/Users/MissBleu/Documents/NSFxml2\\1300026.xml                  Temple University   \n",
       "\n",
       "                                                         city  amount  \n",
       "C:/Users/MissBleu/Documents/NSFxml2\\1300007.xml       FAIRFAX  360000  \n",
       "C:/Users/MissBleu/Documents/NSFxml2\\1300010.xml     Ann Arbor  408194  \n",
       "C:/Users/MissBleu/Documents/NSFxml2\\1300019.xml       Atlanta  289417  \n",
       "C:/Users/MissBleu/Documents/NSFxml2\\1300024.xml    Stillwater  150000  \n",
       "C:/Users/MissBleu/Documents/NSFxml2\\1300026.xml  PHILADELPHIA  165883  "
      ]
     },
     "execution_count": 18,
     "metadata": {},
     "output_type": "execute_result"
    }
   ],
   "source": [
    "for filename in glob.glob(path + '/*.xml'):\n",
    "    tree= etree.parse(open(filename))\n",
    "    for amt in tree.xpath('//AwardAmount'):\n",
    "        amount = amt.text\n",
    "    for leaves in tree.xpath('//Institution'):\n",
    "        for sf in leaves.getchildren():\n",
    "            if sf.tag == \"Name\":\n",
    "                institution = sf.text\n",
    "            if sf.tag == \"CityName\":\n",
    "                city= sf.text\n",
    "    row = dict(zip(['institution', 'city', 'amount'], [institution, city, amount]))\n",
    "    row_s = pd.Series(row)\n",
    "    row_s.name = filename\n",
    "    df2013 = df2013.append(row_s)\n",
    "df2013.head()"
   ]
  },
  {
   "cell_type": "code",
   "execution_count": 19,
   "metadata": {
    "collapsed": true
   },
   "outputs": [],
   "source": [
    "df2013.to_csv(\"C:/Users/MissBleu/Documents/2013.csv\")"
   ]
  },
  {
   "cell_type": "code",
   "execution_count": null,
   "metadata": {
    "collapsed": true
   },
   "outputs": [],
   "source": [
    "grouped = df.groupby(['institution'])\n",
    "output = grouped.size()"
   ]
  },
  {
   "cell_type": "code",
   "execution_count": null,
   "metadata": {
    "collapsed": true
   },
   "outputs": [],
   "source": [
    "list(df['institution'].unique())"
   ]
  },
  {
   "cell_type": "code",
   "execution_count": 20,
   "metadata": {},
   "outputs": [
    {
     "data": {
      "text/html": [
       "<div>\n",
       "<style>\n",
       "    .dataframe thead tr:only-child th {\n",
       "        text-align: right;\n",
       "    }\n",
       "\n",
       "    .dataframe thead th {\n",
       "        text-align: left;\n",
       "    }\n",
       "\n",
       "    .dataframe tbody tr th {\n",
       "        vertical-align: top;\n",
       "    }\n",
       "</style>\n",
       "<table border=\"1\" class=\"dataframe\">\n",
       "  <thead>\n",
       "    <tr style=\"text-align: right;\">\n",
       "      <th></th>\n",
       "      <th>institution</th>\n",
       "      <th>city</th>\n",
       "      <th>amount</th>\n",
       "    </tr>\n",
       "  </thead>\n",
       "  <tbody>\n",
       "  </tbody>\n",
       "</table>\n",
       "</div>"
      ],
      "text/plain": [
       "Empty DataFrame\n",
       "Columns: [institution, city, amount]\n",
       "Index: []"
      ]
     },
     "execution_count": 20,
     "metadata": {},
     "output_type": "execute_result"
    }
   ],
   "source": [
    "import os\n",
    "path = 'C:/Users/MissBleu/Documents/NSF2014'\n",
    "os.listdir(path)\n",
    "import glob\n",
    "glob.glob(path + '/*.xml')\n",
    "import pandas as pd\n",
    "df2014on = pd.DataFrame(columns=('institution', 'city', 'amount'))\n",
    "df2014on"
   ]
  },
  {
   "cell_type": "code",
   "execution_count": 21,
   "metadata": {},
   "outputs": [
    {
     "data": {
      "text/html": [
       "<div>\n",
       "<style>\n",
       "    .dataframe thead tr:only-child th {\n",
       "        text-align: right;\n",
       "    }\n",
       "\n",
       "    .dataframe thead th {\n",
       "        text-align: left;\n",
       "    }\n",
       "\n",
       "    .dataframe tbody tr th {\n",
       "        vertical-align: top;\n",
       "    }\n",
       "</style>\n",
       "<table border=\"1\" class=\"dataframe\">\n",
       "  <thead>\n",
       "    <tr style=\"text-align: right;\">\n",
       "      <th></th>\n",
       "      <th>institution</th>\n",
       "      <th>city</th>\n",
       "      <th>amount</th>\n",
       "    </tr>\n",
       "  </thead>\n",
       "  <tbody>\n",
       "    <tr>\n",
       "      <th>C:/Users/MissBleu/Documents/NSF2014\\1400009.xml</th>\n",
       "      <td>University of Pittsburgh</td>\n",
       "      <td>Pittsburgh</td>\n",
       "      <td>250000</td>\n",
       "    </tr>\n",
       "    <tr>\n",
       "      <th>C:/Users/MissBleu/Documents/NSF2014\\1400017.xml</th>\n",
       "      <td>University of South Florida</td>\n",
       "      <td>Tampa</td>\n",
       "      <td>310671</td>\n",
       "    </tr>\n",
       "    <tr>\n",
       "      <th>C:/Users/MissBleu/Documents/NSF2014\\1400018.xml</th>\n",
       "      <td>North Carolina State University</td>\n",
       "      <td>RALEIGH</td>\n",
       "      <td>461000</td>\n",
       "    </tr>\n",
       "    <tr>\n",
       "      <th>C:/Users/MissBleu/Documents/NSF2014\\1400019.xml</th>\n",
       "      <td>Kent State University</td>\n",
       "      <td>KENT</td>\n",
       "      <td>45000</td>\n",
       "    </tr>\n",
       "    <tr>\n",
       "      <th>C:/Users/MissBleu/Documents/NSF2014\\1400027.xml</th>\n",
       "      <td>Pennsylvania State Univ University Park</td>\n",
       "      <td>UNIVERSITY PARK</td>\n",
       "      <td>244000</td>\n",
       "    </tr>\n",
       "  </tbody>\n",
       "</table>\n",
       "</div>"
      ],
      "text/plain": [
       "                                                                             institution  \\\n",
       "C:/Users/MissBleu/Documents/NSF2014\\1400009.xml                 University of Pittsburgh   \n",
       "C:/Users/MissBleu/Documents/NSF2014\\1400017.xml              University of South Florida   \n",
       "C:/Users/MissBleu/Documents/NSF2014\\1400018.xml          North Carolina State University   \n",
       "C:/Users/MissBleu/Documents/NSF2014\\1400019.xml                    Kent State University   \n",
       "C:/Users/MissBleu/Documents/NSF2014\\1400027.xml  Pennsylvania State Univ University Park   \n",
       "\n",
       "                                                            city  amount  \n",
       "C:/Users/MissBleu/Documents/NSF2014\\1400009.xml       Pittsburgh  250000  \n",
       "C:/Users/MissBleu/Documents/NSF2014\\1400017.xml            Tampa  310671  \n",
       "C:/Users/MissBleu/Documents/NSF2014\\1400018.xml          RALEIGH  461000  \n",
       "C:/Users/MissBleu/Documents/NSF2014\\1400019.xml             KENT   45000  \n",
       "C:/Users/MissBleu/Documents/NSF2014\\1400027.xml  UNIVERSITY PARK  244000  "
      ]
     },
     "execution_count": 21,
     "metadata": {},
     "output_type": "execute_result"
    }
   ],
   "source": [
    "for filename in glob.glob(path + '/*.xml'):\n",
    "    tree= etree.parse(open(filename))\n",
    "    for amt in tree.xpath('//AwardAmount'):\n",
    "        amount = amt.text\n",
    "    for leaves in tree.xpath('//Institution'):\n",
    "        for sf in leaves.getchildren():\n",
    "            if sf.tag == \"Name\":\n",
    "                institution = sf.text\n",
    "            if sf.tag == \"CityName\":\n",
    "                city= sf.text\n",
    "    row = dict(zip(['institution', 'city', 'amount'], [institution, city, amount]))\n",
    "    row_s = pd.Series(row)\n",
    "    row_s.name = filename\n",
    "    df2014on = df2014on.append(row_s)\n",
    "df2014on.head()"
   ]
  },
  {
   "cell_type": "code",
   "execution_count": 23,
   "metadata": {
    "collapsed": true
   },
   "outputs": [],
   "source": [
    "df2014on.to_csv(\"C:/Users/MissBleu/Documents/2014on.csv\", encoding = 'utf-8')"
   ]
  },
  {
   "cell_type": "code",
   "execution_count": null,
   "metadata": {
    "collapsed": true
   },
   "outputs": [],
   "source": []
  }
 ],
 "metadata": {
  "kernelspec": {
   "display_name": "Python 2",
   "language": "python",
   "name": "python2"
  },
  "language_info": {
   "codemirror_mode": {
    "name": "ipython",
    "version": 2
   },
   "file_extension": ".py",
   "mimetype": "text/x-python",
   "name": "python",
   "nbconvert_exporter": "python",
   "pygments_lexer": "ipython2",
   "version": "2.7.14"
  }
 },
 "nbformat": 4,
 "nbformat_minor": 2
}
